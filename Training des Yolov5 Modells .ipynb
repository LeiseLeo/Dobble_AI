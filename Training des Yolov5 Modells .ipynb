{
 "cells": [
  {
   "cell_type": "code",
   "execution_count": null,
   "id": "6e75ac5e",
   "metadata": {},
   "outputs": [],
   "source": [
    "# Betreten des yolov5 Verzeichnis \n",
    "%cd C:\\Users\\tabby\\Desktop\\Informatik\\Double-KI\\yolov5"
   ]
  },
  {
   "cell_type": "code",
   "execution_count": null,
   "id": "b6120e6a",
   "metadata": {},
   "outputs": [],
   "source": [
    "# Trainieren des Modells für 850 Epochen mit konstanten Parametern auf ein leeres yolov5s Modell  \n",
    "!python train.py --img 512 --cfg yolov5s.yaml --hyp hyp.scratch.yaml --batch 32 --epochs 850 --data dobble_icons.yaml --weights yolov5s.pt --workers 24 --name dobble_icons"
   ]
  },
  {
   "cell_type": "code",
   "execution_count": null,
   "id": "b61dfb0d",
   "metadata": {},
   "outputs": [],
   "source": [
    "# Weitertrainieren des Modells mit alten Parametern \n",
    "!python train.py --resume runs/train/dobble_ai10/weights/best.pt\n"
   ]
  },
  {
   "cell_type": "code",
   "execution_count": null,
   "id": "2b2ad5c6",
   "metadata": {},
   "outputs": [],
   "source": [
    "# Trainieren des Modells mit gegebenn\n",
    "!python train.py --img 512 --cfg yolov5s.yaml --hyp hyp.scratch.yaml --batch 32 --epochs 850 --data dobble_icons.yaml --weights runs/train/dobble_ai14/weights/best.pt --workers 24 --name dobble_icons"
   ]
  }
 ],
 "metadata": {
  "kernelspec": {
   "display_name": "Python 3 (ipykernel)",
   "language": "python",
   "name": "python3"
  },
  "language_info": {
   "codemirror_mode": {
    "name": "ipython",
    "version": 3
   },
   "file_extension": ".py",
   "mimetype": "text/x-python",
   "name": "python",
   "nbconvert_exporter": "python",
   "pygments_lexer": "ipython3",
   "version": "3.10.8"
  }
 },
 "nbformat": 4,
 "nbformat_minor": 5
}
